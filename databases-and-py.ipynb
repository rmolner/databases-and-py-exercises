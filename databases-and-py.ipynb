{
    "metadata": {
        "kernelspec": {
            "name": "python3",
            "display_name": "Python 3 (ipykernel)",
            "language": "python"
        },
        "language_info": {
            "name": "python",
            "version": "3.8.10",
            "mimetype": "text/x-python",
            "codemirror_mode": {
                "name": "ipython",
                "version": 3
            },
            "pygments_lexer": "ipython3",
            "nbconvert_exporter": "python",
            "file_extension": ".py"
        }
    },
    "nbformat_minor": 2,
    "nbformat": 4,
    "cells": [
        {
            "cell_type": "markdown",
            "source": [
                "# Exercises: Working with Databases in Python\n",
                "\n",
                "For the exercises, we will be practicing the steps outlined in this [article](https://towardsdatascience.com/do-you-know-python-has-a-built-in-database-d553989c87bd). You can skip the portion where the author downloads a separate SQL client to examine the database. "
            ],
            "metadata": {
                "azdata_cell_guid": "d7b89799-a102-479f-87b7-f2759ff1962e"
            },
            "attachments": {}
        },
        {
            "cell_type": "markdown",
            "source": [
                "## Import Libraries\n",
                "\n",
                "We will need `pandas` and `sqlite3`. SQLite is a small, self-contained database engine that comes with Python so you will not have to do any additional installations for this lesson. If you want to connect to a different database engine, such as SQL server, you may need additional libraries such as `sqlalchemy` or `pyodbc` and a tool called a driver which helps to connect a database to an application.\n",
                ""
            ],
            "metadata": {
                "azdata_cell_guid": "89a0b6d9-821d-44f5-9795-9519809b9108"
            },
            "attachments": {}
        },
        {
            "cell_type": "code",
            "source": [
                "# Import sqlite3 and pandas.\n",
                "import sqlite3 as sl  "
            ],
            "metadata": {
                "azdata_cell_guid": "865655b0-22e9-47f4-a5df-4bfe97dda4a3",
                "tags": [],
                "language": "python"
            },
            "outputs": [],
            "execution_count": 7
        },
        {
            "cell_type": "code",
            "source": [
                "!pip install pandas"
            ],
            "metadata": {
                "language": "python",
                "azdata_cell_guid": "fc314139-71c6-454e-a735-000508e3300c"
            },
            "outputs": [
                {
                    "name": "stdout",
                    "text": "Collecting pandas\n  Downloading pandas-1.5.2-cp38-cp38-win_amd64.whl (11.0 MB)\nRequirement already satisfied: python-dateutil>=2.8.1 in c:\\users\\dance\\appdata\\roaming\\python\\python38\\site-packages (from pandas) (2.8.2)\nCollecting numpy>=1.20.3\n  Downloading numpy-1.24.1-cp38-cp38-win_amd64.whl (14.9 MB)\nCollecting pytz>=2020.1\n  Downloading pytz-2022.7.1-py2.py3-none-any.whl (499 kB)\nRequirement already satisfied: six>=1.5 in c:\\users\\dance\\appdata\\roaming\\python\\python38\\site-packages (from python-dateutil>=2.8.1->pandas) (1.16.0)\nInstalling collected packages: pytz, numpy, pandas\nSuccessfully installed numpy-1.24.1 pandas-1.5.2 pytz-2022.7.1\n",
                    "output_type": "stream"
                },
                {
                    "name": "stderr",
                    "text": "WARNING: You are using pip version 21.1.1; however, version 22.3.1 is available.\nYou should consider upgrading via the 'c:\\users\\dance\\azuredatastudio-python\\python.exe -m pip install --upgrade pip' command.\n",
                    "output_type": "stream"
                }
            ],
            "execution_count": 1
        },
        {
            "cell_type": "code",
            "source": [
                "import pandas as pd "
            ],
            "metadata": {
                "language": "python",
                "azdata_cell_guid": "fd28ee78-3159-4def-bc98-bffb67417dc3"
            },
            "outputs": [],
            "execution_count": 2
        },
        {
            "cell_type": "markdown",
            "source": [
                "## Create a Database\n",
                "\n",
                "In the article, the author shows how to use `sqlite3` to open a connection to an existing database or create a new one. Use this method to make a new database called `exercises.db`."
            ],
            "metadata": {
                "azdata_cell_guid": "be8436e2-68be-47f8-9fc9-06c235a6a128"
            }
        },
        {
            "cell_type": "code",
            "source": [
                "# Create a new database called exercises.db.\n",
                "con = sl.connect('exercises.db')"
            ],
            "metadata": {
                "azdata_cell_guid": "707abc33-c6ee-416e-9358-c799f1fcbb12",
                "language": "python"
            },
            "outputs": [],
            "execution_count": 27
        },
        {
            "cell_type": "markdown",
            "source": [
                "## Create a Table\n",
                "\n",
                "Follow the steps in the article to create a table called `favorite_books.db`. This table should include columns for the title, author, and a short description of why it is a favorite."
            ],
            "metadata": {
                "azdata_cell_guid": "dc9df060-ddc9-4573-bd74-3c97323f85a7"
            },
            "attachments": {}
        },
        {
            "cell_type": "code",
            "source": [
                "# Create a new table in your database.\n",
                "with con:\n",
                "    con.execute(\"\"\"\n",
                "    CREATE TABLE favorite_books (\n",
                "        title TEXT NOT NULL,\n",
                "        author TEXT,\n",
                "        description TEXT\n",
                "        );\n",
                "    \"\"\")\n",
                ""
            ],
            "metadata": {
                "azdata_cell_guid": "3cc6b80e-3fa2-4d2e-b2a9-1ea5d68ba01e",
                "language": "python",
                "tags": []
            },
            "outputs": [
                {
                    "traceback": [
                        "\u001b[1;31m---------------------------------------------------------------------------\u001b[0m",
                        "\u001b[1;31mOperationalError\u001b[0m                          Traceback (most recent call last)",
                        "Cell \u001b[1;32mIn[28], line 3\u001b[0m\n\u001b[0;32m      1\u001b[0m \u001b[38;5;66;03m# Create a new table in your database.\u001b[39;00m\n\u001b[0;32m      2\u001b[0m \u001b[38;5;28;01mwith\u001b[39;00m con:\n\u001b[1;32m----> 3\u001b[0m     \u001b[43mcon\u001b[49m\u001b[38;5;241;43m.\u001b[39;49m\u001b[43mexecute\u001b[49m\u001b[43m(\u001b[49m\u001b[38;5;124;43m\"\"\"\u001b[39;49m\n\u001b[0;32m      4\u001b[0m \u001b[38;5;124;43m    CREATE TABLE favorite_books (\u001b[39;49m\n\u001b[0;32m      5\u001b[0m \u001b[38;5;124;43m        title TEXT NOT NULL,\u001b[39;49m\n\u001b[0;32m      6\u001b[0m \u001b[38;5;124;43m        author TEXT,\u001b[39;49m\n\u001b[0;32m      7\u001b[0m \u001b[38;5;124;43m        description TEXT\u001b[39;49m\n\u001b[0;32m      8\u001b[0m \u001b[38;5;124;43m        );\u001b[39;49m\n\u001b[0;32m      9\u001b[0m \u001b[38;5;124;43m    \u001b[39;49m\u001b[38;5;124;43m\"\"\"\u001b[39;49m\u001b[43m)\u001b[49m\n",
                        "\u001b[1;31mOperationalError\u001b[0m: table favorite_books already exists"
                    ],
                    "ename": "OperationalError",
                    "evalue": "table favorite_books already exists",
                    "output_type": "error"
                }
            ],
            "execution_count": 28
        },
        {
            "cell_type": "markdown",
            "source": [
                "## Insert Records\n",
                "\n",
                "Add 3 entries to your table for your top 3 favorite books."
            ],
            "metadata": {
                "azdata_cell_guid": "e9acec60-1485-45c8-9f12-997f959d44cc"
            }
        },
        {
            "cell_type": "code",
            "source": [
                "# Add your 3 favorite books to your table.\n",
                "sql = 'INSERT INTO favorite_books (title, author, description) values(?, ?, ?)'\n",
                "data = [\n",
                "    ('Throne of Glass', 'Sarah J. Maas', 'Interesting characters with great world building'),\n",
                "    ('Red, White & Royal Blue', 'Casey McQuiston', 'LGBTQ representation and adorable characters'),\n",
                "    ('Harry Potter and the Prisoner of Azkaban', 'JK Rowling', 'Sirius Black')\n",
                "]\n",
                "\n",
                "with con:\n",
                "    con.executemany(sql, data)"
            ],
            "metadata": {
                "azdata_cell_guid": "c7b8e386-f3f4-42ad-aa91-a2da2e7904a5",
                "language": "python"
            },
            "outputs": [],
            "execution_count": 37
        },
        {
            "cell_type": "markdown",
            "source": [
                "## Query Your Table\n",
                "\n",
                "Write a `SELECT` query to output the 3 records in your table."
            ],
            "metadata": {
                "azdata_cell_guid": "b2e48ba7-b418-4418-bb16-598fb82b964c"
            },
            "attachments": {}
        },
        {
            "cell_type": "code",
            "source": [
                "# Write your SELECT query here.\n",
                "with con:\n",
                "    data = con.execute(\"SELECT * FROM favorite_books\")\n",
                "    for row in data:\n",
                "        print(row)"
            ],
            "metadata": {
                "azdata_cell_guid": "c341e7e2-d635-4c26-b744-237c762f7f41",
                "tags": [],
                "language": "python"
            },
            "outputs": [
                {
                    "name": "stdout",
                    "text": "('Throne of Glass', 'Sarah J. Maas', 'Interesting characters with great world building')\n('Red, White & Royal Blue', 'Casey McQuiston', 'LGBTQ representation and adorable characters')\n('Harry Potter and the Prisoner of Azkaban', 'JK Rowling', 'Sirius Black')\n",
                    "output_type": "stream"
                }
            ],
            "execution_count": 38
        },
        {
            "cell_type": "markdown",
            "source": [
                "## Create a New Table with Pandas\n",
                "\n",
                "Create a new table called `favorite_movies` with your top 3 favorite movies. Each movie should have an id and a title. This time, use Pandas to first make a dataframe and then write the dataframe to SQL. Write a `SELECT` query to confirm that the new table does have your top 3 favorite movies."
            ],
            "metadata": {
                "azdata_cell_guid": "2127737d-71cd-4f0d-a84e-b1db8ad54af7"
            }
        },
        {
            "cell_type": "code",
            "source": [
                "# Use Pandas to make a new table in your database.\n",
                "favorite_movies = pd.DataFrame({\n",
                "    'id': [1,2,3],\n",
                "    'title': ['National Treasure', 'Shrek 2', 'Harry Potter and the Prisoner of Azkaban']\n",
                "})"
            ],
            "metadata": {
                "azdata_cell_guid": "b4b6dd20-ccc0-42e7-b1e7-79d8596b3f9c",
                "language": "python"
            },
            "outputs": [],
            "execution_count": 21
        },
        {
            "cell_type": "code",
            "source": [
                "favorite_movies.to_sql('TITLE', con)"
            ],
            "metadata": {
                "language": "python",
                "azdata_cell_guid": "4b01c827-a8df-4399-ba82-bb488496c9eb"
            },
            "outputs": [
                {
                    "traceback": [
                        "\u001b[1;31m---------------------------------------------------------------------------\u001b[0m",
                        "\u001b[1;31mValueError\u001b[0m                                Traceback (most recent call last)",
                        "Cell \u001b[1;32mIn[22], line 1\u001b[0m\n\u001b[1;32m----> 1\u001b[0m \u001b[43mfavorite_movies\u001b[49m\u001b[38;5;241;43m.\u001b[39;49m\u001b[43mto_sql\u001b[49m\u001b[43m(\u001b[49m\u001b[38;5;124;43m'\u001b[39;49m\u001b[38;5;124;43mTITLE\u001b[39;49m\u001b[38;5;124;43m'\u001b[39;49m\u001b[43m,\u001b[49m\u001b[43m \u001b[49m\u001b[43mcon\u001b[49m\u001b[43m)\u001b[49m\n",
                        "File \u001b[1;32m~\\azuredatastudio-python\\lib\\site-packages\\pandas\\core\\generic.py:2987\u001b[0m, in \u001b[0;36mNDFrame.to_sql\u001b[1;34m(self, name, con, schema, if_exists, index, index_label, chunksize, dtype, method)\u001b[0m\n\u001b[0;32m   2830\u001b[0m \u001b[38;5;250m\u001b[39m\u001b[38;5;124;03m\"\"\"\u001b[39;00m\n\u001b[0;32m   2831\u001b[0m \u001b[38;5;124;03mWrite records stored in a DataFrame to a SQL database.\u001b[39;00m\n\u001b[0;32m   2832\u001b[0m \n\u001b[1;32m   (...)\u001b[0m\n\u001b[0;32m   2983\u001b[0m \u001b[38;5;124;03m[(1,), (None,), (2,)]\u001b[39;00m\n\u001b[0;32m   2984\u001b[0m \u001b[38;5;124;03m\"\"\"\u001b[39;00m  \u001b[38;5;66;03m# noqa:E501\u001b[39;00m\n\u001b[0;32m   2985\u001b[0m \u001b[38;5;28;01mfrom\u001b[39;00m \u001b[38;5;21;01mpandas\u001b[39;00m\u001b[38;5;21;01m.\u001b[39;00m\u001b[38;5;21;01mio\u001b[39;00m \u001b[38;5;28;01mimport\u001b[39;00m sql\n\u001b[1;32m-> 2987\u001b[0m \u001b[38;5;28;01mreturn\u001b[39;00m \u001b[43msql\u001b[49m\u001b[38;5;241;43m.\u001b[39;49m\u001b[43mto_sql\u001b[49m\u001b[43m(\u001b[49m\n\u001b[0;32m   2988\u001b[0m \u001b[43m    \u001b[49m\u001b[38;5;28;43mself\u001b[39;49m\u001b[43m,\u001b[49m\n\u001b[0;32m   2989\u001b[0m \u001b[43m    \u001b[49m\u001b[43mname\u001b[49m\u001b[43m,\u001b[49m\n\u001b[0;32m   2990\u001b[0m \u001b[43m    \u001b[49m\u001b[43mcon\u001b[49m\u001b[43m,\u001b[49m\n\u001b[0;32m   2991\u001b[0m \u001b[43m    \u001b[49m\u001b[43mschema\u001b[49m\u001b[38;5;241;43m=\u001b[39;49m\u001b[43mschema\u001b[49m\u001b[43m,\u001b[49m\n\u001b[0;32m   2992\u001b[0m \u001b[43m    \u001b[49m\u001b[43mif_exists\u001b[49m\u001b[38;5;241;43m=\u001b[39;49m\u001b[43mif_exists\u001b[49m\u001b[43m,\u001b[49m\n\u001b[0;32m   2993\u001b[0m \u001b[43m    \u001b[49m\u001b[43mindex\u001b[49m\u001b[38;5;241;43m=\u001b[39;49m\u001b[43mindex\u001b[49m\u001b[43m,\u001b[49m\n\u001b[0;32m   2994\u001b[0m \u001b[43m    \u001b[49m\u001b[43mindex_label\u001b[49m\u001b[38;5;241;43m=\u001b[39;49m\u001b[43mindex_label\u001b[49m\u001b[43m,\u001b[49m\n\u001b[0;32m   2995\u001b[0m \u001b[43m    \u001b[49m\u001b[43mchunksize\u001b[49m\u001b[38;5;241;43m=\u001b[39;49m\u001b[43mchunksize\u001b[49m\u001b[43m,\u001b[49m\n\u001b[0;32m   2996\u001b[0m \u001b[43m    \u001b[49m\u001b[43mdtype\u001b[49m\u001b[38;5;241;43m=\u001b[39;49m\u001b[43mdtype\u001b[49m\u001b[43m,\u001b[49m\n\u001b[0;32m   2997\u001b[0m \u001b[43m    \u001b[49m\u001b[43mmethod\u001b[49m\u001b[38;5;241;43m=\u001b[39;49m\u001b[43mmethod\u001b[49m\u001b[43m,\u001b[49m\n\u001b[0;32m   2998\u001b[0m \u001b[43m\u001b[49m\u001b[43m)\u001b[49m\n",
                        "File \u001b[1;32m~\\azuredatastudio-python\\lib\\site-packages\\pandas\\io\\sql.py:695\u001b[0m, in \u001b[0;36mto_sql\u001b[1;34m(frame, name, con, schema, if_exists, index, index_label, chunksize, dtype, method, engine, **engine_kwargs)\u001b[0m\n\u001b[0;32m    690\u001b[0m \u001b[38;5;28;01melif\u001b[39;00m \u001b[38;5;129;01mnot\u001b[39;00m \u001b[38;5;28misinstance\u001b[39m(frame, DataFrame):\n\u001b[0;32m    691\u001b[0m     \u001b[38;5;28;01mraise\u001b[39;00m \u001b[38;5;167;01mNotImplementedError\u001b[39;00m(\n\u001b[0;32m    692\u001b[0m         \u001b[38;5;124m\"\u001b[39m\u001b[38;5;124m'\u001b[39m\u001b[38;5;124mframe\u001b[39m\u001b[38;5;124m'\u001b[39m\u001b[38;5;124m argument should be either a Series or a DataFrame\u001b[39m\u001b[38;5;124m\"\u001b[39m\n\u001b[0;32m    693\u001b[0m     )\n\u001b[1;32m--> 695\u001b[0m \u001b[38;5;28;01mreturn\u001b[39;00m \u001b[43mpandas_sql\u001b[49m\u001b[38;5;241;43m.\u001b[39;49m\u001b[43mto_sql\u001b[49m\u001b[43m(\u001b[49m\n\u001b[0;32m    696\u001b[0m \u001b[43m    \u001b[49m\u001b[43mframe\u001b[49m\u001b[43m,\u001b[49m\n\u001b[0;32m    697\u001b[0m \u001b[43m    \u001b[49m\u001b[43mname\u001b[49m\u001b[43m,\u001b[49m\n\u001b[0;32m    698\u001b[0m \u001b[43m    \u001b[49m\u001b[43mif_exists\u001b[49m\u001b[38;5;241;43m=\u001b[39;49m\u001b[43mif_exists\u001b[49m\u001b[43m,\u001b[49m\n\u001b[0;32m    699\u001b[0m \u001b[43m    \u001b[49m\u001b[43mindex\u001b[49m\u001b[38;5;241;43m=\u001b[39;49m\u001b[43mindex\u001b[49m\u001b[43m,\u001b[49m\n\u001b[0;32m    700\u001b[0m \u001b[43m    \u001b[49m\u001b[43mindex_label\u001b[49m\u001b[38;5;241;43m=\u001b[39;49m\u001b[43mindex_label\u001b[49m\u001b[43m,\u001b[49m\n\u001b[0;32m    701\u001b[0m \u001b[43m    \u001b[49m\u001b[43mschema\u001b[49m\u001b[38;5;241;43m=\u001b[39;49m\u001b[43mschema\u001b[49m\u001b[43m,\u001b[49m\n\u001b[0;32m    702\u001b[0m \u001b[43m    \u001b[49m\u001b[43mchunksize\u001b[49m\u001b[38;5;241;43m=\u001b[39;49m\u001b[43mchunksize\u001b[49m\u001b[43m,\u001b[49m\n\u001b[0;32m    703\u001b[0m \u001b[43m    \u001b[49m\u001b[43mdtype\u001b[49m\u001b[38;5;241;43m=\u001b[39;49m\u001b[43mdtype\u001b[49m\u001b[43m,\u001b[49m\n\u001b[0;32m    704\u001b[0m \u001b[43m    \u001b[49m\u001b[43mmethod\u001b[49m\u001b[38;5;241;43m=\u001b[39;49m\u001b[43mmethod\u001b[49m\u001b[43m,\u001b[49m\n\u001b[0;32m    705\u001b[0m \u001b[43m    \u001b[49m\u001b[43mengine\u001b[49m\u001b[38;5;241;43m=\u001b[39;49m\u001b[43mengine\u001b[49m\u001b[43m,\u001b[49m\n\u001b[0;32m    706\u001b[0m \u001b[43m    \u001b[49m\u001b[38;5;241;43m*\u001b[39;49m\u001b[38;5;241;43m*\u001b[39;49m\u001b[43mengine_kwargs\u001b[49m\u001b[43m,\u001b[49m\n\u001b[0;32m    707\u001b[0m \u001b[43m\u001b[49m\u001b[43m)\u001b[49m\n",
                        "File \u001b[1;32m~\\azuredatastudio-python\\lib\\site-packages\\pandas\\io\\sql.py:2187\u001b[0m, in \u001b[0;36mSQLiteDatabase.to_sql\u001b[1;34m(self, frame, name, if_exists, index, index_label, schema, chunksize, dtype, method, **kwargs)\u001b[0m\n\u001b[0;32m   2176\u001b[0m             \u001b[38;5;28;01mraise\u001b[39;00m \u001b[38;5;167;01mValueError\u001b[39;00m(\u001b[38;5;124mf\u001b[39m\u001b[38;5;124m\"\u001b[39m\u001b[38;5;132;01m{\u001b[39;00mcol\u001b[38;5;132;01m}\u001b[39;00m\u001b[38;5;124m (\u001b[39m\u001b[38;5;132;01m{\u001b[39;00mmy_type\u001b[38;5;132;01m}\u001b[39;00m\u001b[38;5;124m) not a string\u001b[39m\u001b[38;5;124m\"\u001b[39m)\n\u001b[0;32m   2178\u001b[0m table \u001b[38;5;241m=\u001b[39m SQLiteTable(\n\u001b[0;32m   2179\u001b[0m     name,\n\u001b[0;32m   2180\u001b[0m     \u001b[38;5;28mself\u001b[39m,\n\u001b[1;32m   (...)\u001b[0m\n\u001b[0;32m   2185\u001b[0m     dtype\u001b[38;5;241m=\u001b[39mdtype,\n\u001b[0;32m   2186\u001b[0m )\n\u001b[1;32m-> 2187\u001b[0m \u001b[43mtable\u001b[49m\u001b[38;5;241;43m.\u001b[39;49m\u001b[43mcreate\u001b[49m\u001b[43m(\u001b[49m\u001b[43m)\u001b[49m\n\u001b[0;32m   2188\u001b[0m \u001b[38;5;28;01mreturn\u001b[39;00m table\u001b[38;5;241m.\u001b[39minsert(chunksize, method)\n",
                        "File \u001b[1;32m~\\azuredatastudio-python\\lib\\site-packages\\pandas\\io\\sql.py:829\u001b[0m, in \u001b[0;36mSQLTable.create\u001b[1;34m(self)\u001b[0m\n\u001b[0;32m    827\u001b[0m \u001b[38;5;28;01mif\u001b[39;00m \u001b[38;5;28mself\u001b[39m\u001b[38;5;241m.\u001b[39mexists():\n\u001b[0;32m    828\u001b[0m     \u001b[38;5;28;01mif\u001b[39;00m \u001b[38;5;28mself\u001b[39m\u001b[38;5;241m.\u001b[39mif_exists \u001b[38;5;241m==\u001b[39m \u001b[38;5;124m\"\u001b[39m\u001b[38;5;124mfail\u001b[39m\u001b[38;5;124m\"\u001b[39m:\n\u001b[1;32m--> 829\u001b[0m         \u001b[38;5;28;01mraise\u001b[39;00m \u001b[38;5;167;01mValueError\u001b[39;00m(\u001b[38;5;124mf\u001b[39m\u001b[38;5;124m\"\u001b[39m\u001b[38;5;124mTable \u001b[39m\u001b[38;5;124m'\u001b[39m\u001b[38;5;132;01m{\u001b[39;00m\u001b[38;5;28mself\u001b[39m\u001b[38;5;241m.\u001b[39mname\u001b[38;5;132;01m}\u001b[39;00m\u001b[38;5;124m'\u001b[39m\u001b[38;5;124m already exists.\u001b[39m\u001b[38;5;124m\"\u001b[39m)\n\u001b[0;32m    830\u001b[0m     \u001b[38;5;28;01melif\u001b[39;00m \u001b[38;5;28mself\u001b[39m\u001b[38;5;241m.\u001b[39mif_exists \u001b[38;5;241m==\u001b[39m \u001b[38;5;124m\"\u001b[39m\u001b[38;5;124mreplace\u001b[39m\u001b[38;5;124m\"\u001b[39m:\n\u001b[0;32m    831\u001b[0m         \u001b[38;5;28mself\u001b[39m\u001b[38;5;241m.\u001b[39mpd_sql\u001b[38;5;241m.\u001b[39mdrop_table(\u001b[38;5;28mself\u001b[39m\u001b[38;5;241m.\u001b[39mname, \u001b[38;5;28mself\u001b[39m\u001b[38;5;241m.\u001b[39mschema)\n",
                        "\u001b[1;31mValueError\u001b[0m: Table 'TITLE' already exists."
                    ],
                    "ename": "ValueError",
                    "evalue": "Table 'TITLE' already exists.",
                    "output_type": "error"
                }
            ],
            "execution_count": 22
        },
        {
            "cell_type": "code",
            "source": [
                "with con:\r\n",
                "    data = con.execute(\"SELECT * FROM TITLE\")\r\n",
                "    for row in data:\r\n",
                "        print(row)"
            ],
            "metadata": {
                "language": "python",
                "azdata_cell_guid": "8691de2e-5d3b-4926-8507-59dffe4f5f38"
            },
            "outputs": [
                {
                    "name": "stdout",
                    "text": "(0, 1, 'National Treasure')\n(1, 2, 'Shrek 2')\n(2, 3, 'Harry Potter and the Prisoner of Azkaban')\n",
                    "output_type": "stream"
                }
            ],
            "execution_count": 26
        }
    ]
}